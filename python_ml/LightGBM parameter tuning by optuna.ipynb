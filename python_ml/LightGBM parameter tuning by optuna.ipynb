{
 "cells": [
  {
   "cell_type": "markdown",
   "id": "6a97b597",
   "metadata": {},
   "source": [
    "[LightGBMのパラメータの簡易説明](https://nykergoto.hatenablog.jp/entry/2019/03/29/%E5%8B%BE%E9%85%8D%E3%83%96%E3%83%BC%E3%82%B9%E3%83%86%E3%82%A3%E3%83%B3%E3%82%B0%E3%81%A7%E5%A4%A7%E4%BA%8B%E3%81%AA%E3%83%91%E3%83%A9%E3%83%A1%E3%83%BC%E3%82%BF%E3%81%AE%E6%B0%97%E6%8C%81%E3%81%A1)"
   ]
  },
  {
   "cell_type": "markdown",
   "id": "b7776d5b",
   "metadata": {},
   "source": [
    "[公式ドキュメント](https://lightgbm.readthedocs.io/en/latest/Parameters.html)"
   ]
  },
  {
   "cell_type": "code",
   "execution_count": null,
   "id": "e908389b",
   "metadata": {},
   "outputs": [],
   "source": [
    "#LightGBM parameter tuning by optuna\n",
    "\n",
    "import optuna\n",
    "import lightgbm as lgb\n",
    "from sklearn.metrics import log_loss\n",
    "\n",
    "\n",
    "def objective(trial):\n",
    "    params = {\n",
    "        'objective': 'binary',\n",
    "        'max_bin': trial.suggest_int('max_bin', 255, 500),\n",
    "        'learning_rate': 0.05,\n",
    "        'num_leaves': trial.suggest_int('num_leaves', 32, 128),\n",
    "    }\n",
    "\n",
    "    lgb_train = lgb.Dataset(X_train, y_train,\n",
    "                                             categorical_feature=categorical_features)\n",
    "    lgb_eval = lgb.Dataset(X_valid, y_valid, reference=lgb_train,\n",
    "                                            categorical_feature=categorical_features)\n",
    "\n",
    "    model = lgb.train(params, lgb_train,\n",
    "                                   valid_sets=[lgb_train, lgb_eval],\n",
    "                                   verbose_eval=10,\n",
    "                                   num_boost_round=1000,\n",
    "                                   early_stopping_rounds=10)\n",
    "\n",
    "    y_pred_valid = model.predict(X_valid, num_iteration=model.best_iteration)\n",
    "    score = log_loss(y_valid, y_pred_valid)\n",
    "    return score"
   ]
  },
  {
   "cell_type": "code",
   "execution_count": null,
   "id": "2c2fb1be",
   "metadata": {},
   "outputs": [],
   "source": [
    "study = optuna.create_study(sampler=optuna.samplers.RandomSampler(seed=42))\n",
    "study.optimize(objective, n_trials=40) #40回"
   ]
  },
  {
   "cell_type": "code",
   "execution_count": null,
   "id": "c4cd4ee7",
   "metadata": {},
   "outputs": [],
   "source": [
    "study.best_params"
   ]
  },
  {
   "cell_type": "code",
   "execution_count": null,
   "id": "16cd8ce5",
   "metadata": {},
   "outputs": [],
   "source": [
    "params = {\n",
    "    'objective': 'binary',\n",
    "    'max_bin': study.best_params['max_bin'],\n",
    "    'learning_rate': 0.05,\n",
    "    'num_leaves': study.best_params['num_leaves']\n",
    "}\n",
    "\n",
    "lgb_train = lgb.Dataset(X_train, y_train,\n",
    "                                         categorical_feature=categorical_features)\n",
    "lgb_eval = lgb.Dataset(X_valid, y_valid, reference=lgb_train,\n",
    "                                         categorical_feature=categorical_features)\n",
    "\n",
    "model = lgb.train(params, lgb_train,\n",
    "                               valid_sets=[lgb_train, lgb_eval],\n",
    "                               verbose_eval=10,\n",
    "                               num_boost_round=1000,\n",
    "                               early_stopping_rounds=10)\n",
    "\n",
    "y_pred = model.predict(X_test, num_iteration=model.best_iteration)"
   ]
  },
  {
   "cell_type": "code",
   "execution_count": null,
   "id": "26cfcd33",
   "metadata": {},
   "outputs": [],
   "source": [
    "y_pred = (y_pred > 0.5).astype(int)\n",
    "\n",
    "sub['Survived'] = y_pred\n",
    "sub.to_csv('submission.csv', index=False)\n",
    "\n",
    "sub.head()"
   ]
  }
 ],
 "metadata": {
  "kernelspec": {
   "display_name": "Python 3 (ipykernel)",
   "language": "python",
   "name": "python3"
  },
  "language_info": {
   "codemirror_mode": {
    "name": "ipython",
    "version": 3
   },
   "file_extension": ".py",
   "mimetype": "text/x-python",
   "name": "python",
   "nbconvert_exporter": "python",
   "pygments_lexer": "ipython3",
   "version": "3.9.7"
  },
  "varInspector": {
   "cols": {
    "lenName": 16,
    "lenType": 16,
    "lenVar": 40
   },
   "kernels_config": {
    "python": {
     "delete_cmd_postfix": "",
     "delete_cmd_prefix": "del ",
     "library": "var_list.py",
     "varRefreshCmd": "print(var_dic_list())"
    },
    "r": {
     "delete_cmd_postfix": ") ",
     "delete_cmd_prefix": "rm(",
     "library": "var_list.r",
     "varRefreshCmd": "cat(var_dic_list()) "
    }
   },
   "types_to_exclude": [
    "module",
    "function",
    "builtin_function_or_method",
    "instance",
    "_Feature"
   ],
   "window_display": false
  }
 },
 "nbformat": 4,
 "nbformat_minor": 5
}
